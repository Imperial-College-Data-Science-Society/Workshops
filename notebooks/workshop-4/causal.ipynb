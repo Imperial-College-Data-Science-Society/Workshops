{
 "cells": [
  {
   "cell_type": "markdown",
   "metadata": {
    "slideshow": {
     "slide_type": "slide"
    }
   },
   "source": [
    "# Workshop 4: Demystifying Causality and Causal Inference\n",
    "\n",
    "https://github.com/Imperial-College-Data-Science-Society/workshops\n",
    "\n",
    "1. Introduction to Data Science\n",
    "2. Regression and Neural Networks\n",
    "3. Classifying Character and Organ Images\n",
    "4. **Demystifying Causality and Causal Inference**\n",
    "5. A Primer to Data Engineering\n",
    "6. Natural Language Processing (NLP) by using Attention\n",
    "7. Art and Music using GANs\n",
    "8. Probabilistic Programming in Practice\n",
    "9. Missing Data in Supervised Learning\n",
    "\n",
    "## Today ##\n",
    "You can access the material via:\n",
    "- Binder\n",
    "- Local Jupyter Notebook with a suitable virtual environment and dependencies installed\n",
    "- The PDF slides\n",
    "- Following my slides on MS Teams\n",
    "\n",
    "![alt-text](icdss.jpeg)"
   ]
  },
  {
   "cell_type": "markdown",
   "metadata": {
    "slideshow": {
     "slide_type": "slide"
    }
   },
   "source": [
    "References I used to prepare this session:\n",
    "\n",
    "- Past ICDSS workshops\n",
    "- Dr Jacob Runge's slides on Causal discovery\n",
    "- Caron et al. 2020, *Estimating Individual Treatment Effects using Non-Parametric Regression Models: a Review*\n",
    "- Qingyuan Zhao's notes on Causal Inference. Part III Mathematics, Cambridge University."
   ]
  },
  {
   "cell_type": "markdown",
   "metadata": {
    "slideshow": {
     "slide_type": "slide"
    }
   },
   "source": [
    "## Motivation\n",
    "\n",
    "Consider room temperature and an air conditioner:\n",
    "- If the air conditioner is on, then room temperature goes up.\n",
    "- Every day, you toss a fair coin to determine whether to turn on the air conditioner."
   ]
  },
  {
   "cell_type": "markdown",
   "metadata": {
    "slideshow": {
     "slide_type": "fragment"
    }
   },
   "source": [
    "**Questions**:\n",
    "1. Does turning on the air conditioner cause the temperature to go up?\n",
    "2. Does making te temperature to go up turn the air conditioner on?\n"
   ]
  },
  {
   "cell_type": "markdown",
   "metadata": {
    "slideshow": {
     "slide_type": "slide"
    }
   },
   "source": [
    "## Motivation\n",
    "\n",
    "\n",
    "Consider room temperature and an air conditioner:\n",
    "- If the air conditioner is on, then room temperature goes up.\n",
    "- Every day, you toss a fair coin to determine whether to turn on the air conditioner.\n",
    "\n",
    "\n",
    "**Questions**:\n",
    "1. Does turning on the air conditioner cause the temperature to go up?  <span style=\"color:red\">Yes</span>\n",
    "2. Does making te temperature to go up turn the air conditioner on?  <span style=\"color:red\">No</span>"
   ]
  },
  {
   "cell_type": "markdown",
   "metadata": {
    "slideshow": {
     "slide_type": "slide"
    }
   },
   "source": [
    "## Causality and dependence\n",
    "\n",
    "Let $X = 1$ if air conditioner is on, and 0 otherwise. \\\n",
    "Let $Y = 1$ if room temperature goes up, and 0 otherwise.\n",
    "\n",
    "**Question:** \\\n",
    "Are $X$ and $Y$ dependent? I.e. Does knowing temperature is up change the probability that air conditioner is on? What about the other direction?"
   ]
  },
  {
   "cell_type": "markdown",
   "metadata": {
    "slideshow": {
     "slide_type": "fragment"
    }
   },
   "source": [
    "$$\n",
    "\\mathbb{P}(\\textrm{temp. up} | \\textrm{air cond. on}) = \\mathbb{P}(Y = 1 | X = 1)\n",
    "> \\mathbb{P}(Y = 1) = \\mathbb{P}(\\textrm{temp. up})\n",
    "$$ \n"
   ]
  },
  {
   "cell_type": "markdown",
   "metadata": {
    "slideshow": {
     "slide_type": "fragment"
    }
   },
   "source": [
    "Similarly,\n",
    "$$\n",
    "\\mathbb{P}(\\textrm{air cond. on} | \\textrm{temp. up}) = \\mathbb{P}(X = 1 | Y = 1) > \\mathbb{P}(X = 1) = \\mathbb{P}(\\textrm{air cond. on})\n",
    "$$"
   ]
  },
  {
   "cell_type": "markdown",
   "metadata": {
    "slideshow": {
     "slide_type": "fragment"
    }
   },
   "source": [
    "Hence, knowing the temperature is up increases the probability that air conditioner is on, and vice versa."
   ]
  },
  {
   "cell_type": "markdown",
   "metadata": {
    "slideshow": {
     "slide_type": "slide"
    }
   },
   "source": [
    "## Causality and dependence\n",
    "\n",
    "**<span style=\"color:red\">Conclusion:</span>** \n",
    "- <span style=\"color:red\">Causal relationship cannot be identified by probability.</span>\n",
    "- <span style=\"color:red\">Dependence $\\neq$ causation.</span>"
   ]
  },
  {
   "cell_type": "markdown",
   "metadata": {
    "slideshow": {
     "slide_type": "slide"
    }
   },
   "source": [
    "## Confounding and Randomized Control Trials\n",
    "\n",
    "**Question**: How can one determine whether a certain vaccine can stop the development of COVID-19?\n",
    "\n",
    "**Randomized Control Trials (RCT)**: \n",
    "Randomly assign subjects to treatment and control groups, so that all factors between the two groups, except whether a treatment is given, are the same.\n"
   ]
  },
  {
   "cell_type": "markdown",
   "metadata": {
    "slideshow": {
     "slide_type": "fragment"
    }
   },
   "source": [
    "<img src=\"graph1.png\" alt=\"graph1\" width=\"300\"/>"
   ]
  },
  {
   "cell_type": "markdown",
   "metadata": {
    "slideshow": {
     "slide_type": "slide"
    }
   },
   "source": [
    "## Confounding and Randomized Control Trials\n",
    "\n",
    "**Question**: How can one determine whether a certain vaccine can stop the development of COVID-19?\n",
    "\n",
    "**Randomized Control Trials (RCT)**:\n",
    "Randomly assign subjects to treatment and control groups, so that all factors between the two groups, except whether a treatment is given, are the same.\n",
    "\n",
    "<img src=\"graph2.png\" alt=\"graph2\" width=\"300\"/>"
   ]
  },
  {
   "cell_type": "markdown",
   "metadata": {
    "slideshow": {
     "slide_type": "slide"
    }
   },
   "source": [
    "## Confounding and Randomized Control Trials\n",
    "\n",
    "**Question**: How can one determine whether a certain vaccine can stop the development of COVID-19?\n",
    "\n",
    "**Randomized Control Trials (RCT)**: \n",
    "Randomly assign subjects to treatment and control groups, so that all factors between the two groups, except whether a treatment is given, are the same.\n",
    "\n",
    "<img src=\"graph3.png\" alt=\"graph3\" width=\"300\"/>"
   ]
  },
  {
   "cell_type": "markdown",
   "metadata": {
    "slideshow": {
     "slide_type": "slide"
    }
   },
   "source": [
    "## Confounding and Randomized Control Trials\n",
    "\n",
    "**Question**: How can one determine whether a certain vaccine can stop the development of COVID-19?\n",
    "\n",
    "More complex (realistic) senario:\n",
    "<img src=\"graph4.png\" alt=\"graph4\" width=\"300\"/>\n",
    "\n",
    "I.e. Use RCT to eliminate all confounders!"
   ]
  },
  {
   "cell_type": "markdown",
   "metadata": {
    "slideshow": {
     "slide_type": "slide"
    }
   },
   "source": [
    "## Abstraction of problem:\n",
    "Let $X$ and $Y$ be two variables. \\\n",
    "Interested in knowing whether $X$ causes $Y$."
   ]
  },
  {
   "cell_type": "markdown",
   "metadata": {
    "slideshow": {
     "slide_type": "fragment"
    }
   },
   "source": [
    "**Approach**: \\\n",
    "Experimentally manipulate $X$ while keeping all other variables unchanged, and observe if there is a change to $Y$.\n",
    "\n",
    "Such Idealized manipulation is called an *intervention* on $X$."
   ]
  },
  {
   "cell_type": "markdown",
   "metadata": {
    "slideshow": {
     "slide_type": "fragment"
    }
   },
   "source": [
    "**Example**:\n",
    "1. Turning air conditioner on makes room temperature up.\n",
    "2. Making room temperature up does not turn air conditioner on. \\\n",
    "\n",
    "Example of a confounder: weather."
   ]
  },
  {
   "cell_type": "markdown",
   "metadata": {
    "slideshow": {
     "slide_type": "slide"
    }
   },
   "source": [
    "## Challenges\n",
    "\n",
    "1. In practice, not all confounders are measured.\n",
    "2. Interaction is often hard, if at all possible, in some applications (e.g. policy making).\n",
    "\n",
    "\n",
    "Therefore, assumptions are needed to proceed!"
   ]
  },
  {
   "cell_type": "markdown",
   "metadata": {
    "slideshow": {
     "slide_type": "skip"
    }
   },
   "source": [
    "# Potential Outcomes Framework and its Assumptions"
   ]
  },
  {
   "cell_type": "markdown",
   "metadata": {
    "slideshow": {
     "slide_type": "slide"
    }
   },
   "source": [
    "## Setup\n",
    "\n",
    "First introduced by the statistician Neyman in 1923, in his Master's thesis.\n",
    "\n",
    "We have $n$ datapoints $\\{(x_i,y_i)\\}_{i=1}^n$. The $x_i$'s live in $\\mathcal{X}$ and the $y_i$'s in $(-\\infty,\\infty)$. Alongside the datapoints, we also have **treatment** assignments $z_i=0$ or $1$ to indicate **control** and **treatment** groups. The assignments are done first on populations with covariates $x_i$ and then the responses $y_i$ are recorded. "
   ]
  },
  {
   "cell_type": "markdown",
   "metadata": {
    "slideshow": {
     "slide_type": "slide"
    }
   },
   "source": [
    "## Treatment Assignments\n",
    "\n",
    "- Completely randomised\n",
    "- Bernoulli trial\n",
    "- Other mechanisms"
   ]
  },
  {
   "cell_type": "markdown",
   "metadata": {
    "slideshow": {
     "slide_type": "slide"
    }
   },
   "source": [
    "## Unconfoundedness\n",
    "\n",
    "$(Y_i(0), Y_i(1)) \\perp Z_i | X_i$.\n",
    "\n",
    "The treatment assignments $Z_i$ are determined by the treatment assignment mechanism already, and therefore how the response behaves should not be influenced by the selection of $Z_i$."
   ]
  },
  {
   "cell_type": "markdown",
   "metadata": {
    "slideshow": {
     "slide_type": "slide"
    }
   },
   "source": [
    "## Stable Unit Treatment Value Assumption (SUTVA)\n",
    "\n",
    "$Y_i = Y_i(z_i)=$\n",
    "- $Y_i(0)$ if $z_i=0$\n",
    "- $Y_i(1)$ if $z_i=1$\n",
    "\n",
    "for $i=1,\\ldots,n$. Only 1 outcome can be observed and no interference. Might not hold in the real world."
   ]
  },
  {
   "cell_type": "markdown",
   "metadata": {
    "slideshow": {
     "slide_type": "slide"
    }
   },
   "source": [
    "## Positivity/Common Support\n",
    "\n",
    "This requires that the treatment assignment mechanism does not deterministically make a selection to 1 group for each $x_i$."
   ]
  },
  {
   "cell_type": "markdown",
   "metadata": {
    "slideshow": {
     "slide_type": "slide"
    }
   },
   "source": [
    "We want to know the  **conditional average treatment effect** (CATE):\n",
    "$$\\tau(x):=\\mathbb{E}[Y(1)-Y(1)|X=x]$$\n",
    "\n",
    "or similarly the **average treatment effect** (ATE):\n",
    "$$\\mathbb{E}[\\tau]=\\mathbb{E}[Y(1) - Y(0)]$$"
   ]
  },
  {
   "cell_type": "markdown",
   "metadata": {
    "slideshow": {
     "slide_type": "skip"
    }
   },
   "source": [
    "# Methods"
   ]
  },
  {
   "cell_type": "markdown",
   "metadata": {
    "slideshow": {
     "slide_type": "slide"
    }
   },
   "source": [
    "## Estimating CATE \n",
    "\n",
    "Three popular paradigms:\n",
    "1. Single-learner (S-learner)\n",
    "2. Two-learners (T-learners)\n",
    "3. Multitask-learner (brief).\n"
   ]
  },
  {
   "cell_type": "markdown",
   "metadata": {
    "slideshow": {
     "slide_type": "slide"
    }
   },
   "source": [
    "## S-Learner\n",
    "\n",
    "Use treatment assignment as \"just another variable\".\n",
    "\n",
    "Estimate CATE as\n",
    "$$\n",
    "\\tau(x) = f(x, 1) - f(x, 0),\n",
    "$$\n",
    "where $f$ is learned by any machine learning model, e.g. linear regression, random forests, neural nets..."
   ]
  },
  {
   "cell_type": "markdown",
   "metadata": {
    "slideshow": {
     "slide_type": "slide"
    }
   },
   "source": [
    "## S-Learner\n",
    "\n",
    "Advantages:\n",
    "- Performs well if CATE is of a small magnitude (i.e. close to 0).\n",
    "- Simple to implement.\n",
    "\n",
    "Limitations:\n",
    "- Performs poorly when there is a selection bias, i.e. the distribution of covariates $X$ depends on the treatment.\n",
    "- Performs poorly when the dependence of $Y$ on $X$ is very different (in terms of smoothness and sparsity) across the treatment and control groups."
   ]
  },
  {
   "cell_type": "markdown",
   "metadata": {
    "slideshow": {
     "slide_type": "slide"
    }
   },
   "source": [
    "## T-Learners\n",
    "\n",
    "Learning the treatment and control groups separately.\n",
    "\n",
    "$$\n",
    "\\tau(X) = f_1(x) - f_0(x),\n",
    "$$\n",
    "where $f_1$ and $f_0$ are learned by two ML models on the treament and control group, respectively."
   ]
  },
  {
   "cell_type": "markdown",
   "metadata": {
    "slideshow": {
     "slide_type": "slide"
    }
   },
   "source": [
    "## T-Learners\n",
    "\n",
    "Advantages:\n",
    "- Preserves the distribution difference across the two groups, thus incorporating selection bias and allowing different degrees of smoothness and sparsity.\n",
    "\n",
    "Limitations:\n",
    "- Fitting $f_1$ and $f_0$ separately defies information sharing between the two groups."
   ]
  },
  {
   "cell_type": "markdown",
   "metadata": {
    "slideshow": {
     "slide_type": "slide"
    }
   },
   "source": [
    "## Multitask-Learners\n",
    "\n",
    "Learning $f_1$ and $f_0$ in T-learners \"simultaneously\" by using a model called *Causal Multitask Gaussian Process* that allows a joint optimization when learning $f_1$ and $f_0$ [Alaa and van der Schaar 2017].\n",
    "\n",
    "$$\n",
    "\\tau(x) = f_1(x) - f_0(x).\n",
    "$$"
   ]
  },
  {
   "cell_type": "markdown",
   "metadata": {
    "slideshow": {
     "slide_type": "slide"
    }
   },
   "source": [
    "## Toy Example\n",
    "\n",
    "Consider the model \n",
    "$$\n",
    "Y_i = 1.5 x_i (1 - Z_i) + (6 - x_i^3 + 2x_i) Z_i + \\epsilon_i,\n",
    "$$\n",
    "where \n",
    "- $i = 1, \\ldots, n$, n =100,\n",
    "- $Y_i$ is the response, $X_i$ is the covariate, $Z_i$ is the binary treatment (0 or 1),\n",
    "- $\\epsilon_i \\sim \\mathcal{N}(0, 1)$ independent and identically distributed (i.i.d.) is the noise.\n",
    "\n",
    "We will use linear models to estimate the CATE under the S-learner and T-learners paradigms.\n"
   ]
  },
  {
   "cell_type": "markdown",
   "metadata": {
    "slideshow": {
     "slide_type": "fragment"
    }
   },
   "source": [
    "**S-learner**:\n",
    "$$\n",
    "Y_i = \\beta_0 + \\beta_1 x_i + \\beta_2 x_i^2 + \\beta_3 x_i^3 + Z_i + \\epsilon_i.\n",
    "$$\n",
    "**T-learners**:\n",
    "$$\n",
    "f_1: Y_i = \\beta_{0, 1} + \\beta_{1, 1} x_i + \\beta_{2, 1} x_i^2 + \\beta_{3, 1} x_i^3 + \\epsilon_i, \\textrm{ for $i$ such that $Z_i = 1$, and}\n",
    "$$\n",
    "$$\n",
    "f_0: Y_i = \\beta_{0, 0} + \\beta_{1, 0} x_i + \\beta_{2, 0} x_i^2 + \\beta_{3, 0} x_i^3 + \\epsilon_i, \\textrm{ for $i$ such that $Z_i = 0$.}\n",
    "$$"
   ]
  },
  {
   "cell_type": "markdown",
   "metadata": {
    "slideshow": {
     "slide_type": "slide"
    }
   },
   "source": [
    "## Simulate data"
   ]
  },
  {
   "cell_type": "code",
   "execution_count": 98,
   "metadata": {
    "scrolled": true,
    "slideshow": {
     "slide_type": "fragment"
    }
   },
   "outputs": [],
   "source": [
    "import numpy as np\n",
    "import matplotlib.pyplot as plt\n",
    "\n",
    "np.random.seed(1) # for reproducibility\n",
    "\n",
    "n = 100\n",
    "noise = 1*np.random.normal(size=n)\n",
    "x = np.linspace(-3, 3, n)\n",
    "z = np.random.binomial(n=1, p=0.4, size=n)\n",
    "\n",
    "y = (3 + 1.5*x) * (1 - z) + (20 - x**3 + 8*x) * z + noise\n"
   ]
  },
  {
   "cell_type": "code",
   "execution_count": 104,
   "metadata": {
    "slideshow": {
     "slide_type": "fragment"
    }
   },
   "outputs": [
    {
     "data": {
      "image/png": "[encoded data removed]",
      "text/plain": [
       "<Figure size 432x288 with 1 Axes>"
      ]
     },
     "metadata": {
      "needs_background": "light"
     },
     "output_type": "display_data"
    }
   ],
   "source": [
    "plt.plot(x, 20 - x**3 + 8*x, \"k--\")\n",
    "plt.plot(x, 3 + 1.5*x, \"k--\", label=\"signal\")\n",
    "plt.scatter(x[z == 1], y[z == 1], color=\"b\", alpha=0.3, label=\"Treated\")\n",
    "plt.scatter(x[z == 0], y[z == 0], color=\"r\", alpha=0.3, label=\"Controled\")\n",
    "plt.xlabel(\"x\")\n",
    "plt.ylabel(\"y\")\n",
    "_ = plt.legend()"
   ]
  },
  {
   "cell_type": "markdown",
   "metadata": {
    "slideshow": {
     "slide_type": "slide"
    }
   },
   "source": [
    "## S-Learner"
   ]
  },
  {
   "cell_type": "code",
   "execution_count": 99,
   "metadata": {
    "slideshow": {
     "slide_type": "fragment"
    }
   },
   "outputs": [
    {
     "name": "stdout",
     "output_type": "stream",
     "text": [
      "A peak of the design matrix:\n",
      " [[  1.          -3.           9.         -27.           1.        ]\n",
      " [  1.          -2.93939394   8.64003673 -25.3964716    0.        ]\n",
      " [  1.          -2.87878788   8.28741965 -23.85772324   1.        ]\n",
      " [  1.          -2.81818182   7.94214876 -22.38241923   1.        ]\n",
      " [  1.          -2.75757576   7.60422406 -20.96922392   0.        ]]\n"
     ]
    }
   ],
   "source": [
    "import statsmodels.api as sm\n",
    "\n",
    "# build design matrix\n",
    "X = sm.add_constant(np.array([x, x**2, x**3, z]).T)\n",
    "print(\"A peak of the design matrix:\\n\", X[:5])"
   ]
  },
  {
   "cell_type": "markdown",
   "metadata": {
    "slideshow": {
     "slide_type": "slide"
    }
   },
   "source": [
    "## S-Learner"
   ]
  },
  {
   "cell_type": "code",
   "execution_count": 102,
   "metadata": {
    "scrolled": true,
    "slideshow": {
     "slide_type": "fragment"
    }
   },
   "outputs": [
    {
     "name": "stdout",
     "output_type": "stream",
     "text": [
      "                            OLS Regression Results                            \n",
      "==============================================================================\n",
      "Dep. Variable:                      y   R-squared:                       0.942\n",
      "Model:                            OLS   Adj. R-squared:                  0.939\n",
      "Method:                 Least Squares   F-statistic:                     385.3\n",
      "Date:                Sat, 14 Nov 2020   Prob (F-statistic):           8.84e-58\n",
      "Time:                        22:17:47   Log-Likelihood:                -229.54\n",
      "No. Observations:                 100   AIC:                             469.1\n",
      "Df Residuals:                      95   BIC:                             482.1\n",
      "Df Model:                           4                                         \n",
      "Covariance Type:            nonrobust                                         \n",
      "==============================================================================\n",
      "                 coef    std err          t      P>|t|      [0.025      0.975]\n",
      "------------------------------------------------------------------------------\n",
      "const          3.2642      0.436      7.488      0.000       2.399       4.130\n",
      "x1             4.2110      0.356     11.824      0.000       3.504       4.918\n",
      "x2             0.0084      0.090      0.093      0.926      -0.171       0.188\n",
      "x3            -0.4159      0.059     -7.038      0.000      -0.533      -0.299\n",
      "x4            17.2307      0.511     33.722      0.000      16.216      18.245\n",
      "==============================================================================\n",
      "Omnibus:                        9.627   Durbin-Watson:                   2.104\n",
      "Prob(Omnibus):                  0.008   Jarque-Bera (JB):                3.922\n",
      "Skew:                          -0.184   Prob(JB):                        0.141\n",
      "Kurtosis:                       2.102   Cond. No.                         25.7\n",
      "==============================================================================\n",
      "\n",
      "Warnings:\n",
      "[1] Standard Errors assume that the covariance matrix of the errors is correctly specified. \n",
      " sigma~ 2.452020964660392\n"
     ]
    }
   ],
   "source": [
    "# fit s-learner\n",
    "m = sm.OLS(y, X)\n",
    "slearner = m.fit()\n",
    "\n",
    "print(slearner.summary(), \"\\n sigma~\", np.sqrt(sum(slearner.resid**2) / (100 - 4)))"
   ]
  },
  {
   "cell_type": "markdown",
   "metadata": {
    "slideshow": {
     "slide_type": "slide"
    }
   },
   "source": [
    "## S-Learner"
   ]
  },
  {
   "cell_type": "code",
   "execution_count": 116,
   "metadata": {
    "scrolled": true,
    "slideshow": {
     "slide_type": "fragment"
    }
   },
   "outputs": [
    {
     "data": {
      "image/png": "[encoded data removed]",
      "text/plain": [
       "<Figure size 432x288 with 1 Axes>"
      ]
     },
     "metadata": {
      "needs_background": "light"
     },
     "output_type": "display_data"
    }
   ],
   "source": [
    "# get the fitted function for each group\n",
    "X1_plot = np.array([np.ones(n).T, x, x**2, x**3, np.ones(n)]).T\n",
    "X0_plot = sm.add_constant(np.array([x, x**2, x**3, np.zeros(n)]).T)\n",
    "\n",
    "y1_s = slearner.predict(X1_plot)\n",
    "y0_s = slearner.predict(X0_plot)\n",
    "\n",
    "# plots\n",
    "plt.plot(x, y1_s, \"k--\")\n",
    "plt.plot(x, y0_s, \"k--\", label=\"Fitted\")\n",
    "plt.scatter(x[z == 1], y[z == 1], color=\"b\", alpha=.3, label=\"Treated\")\n",
    "plt.scatter(x[z == 0], y[z == 0], color=\"r\", alpha=.3, label=\"Controled\")\n",
    "\n",
    "plt.xlabel(\"x\")\n",
    "plt.ylabel(\"y\")\n",
    "_ = plt.legend()"
   ]
  },
  {
   "cell_type": "markdown",
   "metadata": {
    "slideshow": {
     "slide_type": "slide"
    }
   },
   "source": [
    "## T-Learners"
   ]
  },
  {
   "cell_type": "code",
   "execution_count": 117,
   "metadata": {
    "scrolled": true,
    "slideshow": {
     "slide_type": "fragment"
    }
   },
   "outputs": [],
   "source": [
    "# build design matrices\n",
    "X1 = sm.add_constant(np.array([x, x**2, x**3]).T)[z == 1, :]\n",
    "X0 = sm.add_constant(np.array([x, x**2, x**3]).T)[z == 0, :]\n",
    "\n",
    "# fit T-learners\n",
    "m1 = sm.OLS(y[z == 1], X1)\n",
    "tlearner1 = m1.fit()\n",
    "\n",
    "m0 = sm.OLS(y[z == 0], X0)\n",
    "tlearner0 = m0.fit()"
   ]
  },
  {
   "cell_type": "markdown",
   "metadata": {
    "slideshow": {
     "slide_type": "slide"
    }
   },
   "source": [
    "## T-Learners"
   ]
  },
  {
   "cell_type": "code",
   "execution_count": 118,
   "metadata": {
    "slideshow": {
     "slide_type": "fragment"
    }
   },
   "outputs": [
    {
     "data": {
      "image/png": "[encoded data removed]",
      "text/plain": [
       "<Figure size 432x288 with 1 Axes>"
      ]
     },
     "metadata": {
      "needs_background": "light"
     },
     "output_type": "display_data"
    }
   ],
   "source": [
    "# get the fitted function for each group\n",
    "X1_plot = np.array([np.ones(n).T, x, x**2, x**3]).T\n",
    "X0_plot = sm.add_constant(np.array([x, x**2, x**3]).T)\n",
    "\n",
    "y1_t = tlearner1.predict(X1_plot)\n",
    "y0_t = tlearner0.predict(X0_plot)\n",
    "\n",
    "plt.plot(x, y1_t, \"k--\")\n",
    "plt.plot(x, y0_t, \"k--\", label=\"Fitted\")\n",
    "plt.scatter(x[z == 1], y[z == 1], color=\"b\", alpha=.3, label=\"Treated\")\n",
    "plt.scatter(x[z == 0], y[z == 0], color=\"r\", alpha=.3, label=\"Controled\")\n",
    "\n",
    "plt.xlabel(\"x\")\n",
    "plt.ylabel(\"y\")\n",
    "_ = plt.legend()"
   ]
  },
  {
   "cell_type": "markdown",
   "metadata": {
    "slideshow": {
     "slide_type": "slide"
    }
   },
   "source": [
    "## Estimate CATE\n",
    "Quantify estimation error in terms of MAPE: \n",
    "$$\n",
    "M = \\frac{1}{n} \\sum_{i = 1}^{n}\\frac{|\\tau(x_i) - \\hat{\\tau}(x_i)|}{| \\tau(x_i) |}.\n",
    "$$"
   ]
  },
  {
   "cell_type": "code",
   "execution_count": 119,
   "metadata": {
    "slideshow": {
     "slide_type": "fragment"
    }
   },
   "outputs": [
    {
     "name": "stdout",
     "output_type": "stream",
     "text": [
      "S-learner  MAPE: 27.000975283031686 \n",
      "T-learners MAPE: 1.0928322472952854\n"
     ]
    }
   ],
   "source": [
    "# true CATE\n",
    "cate_true = (20 - x**3 + 8*x) - (3 + 1.5*x)\n",
    "\n",
    "# S-learner estimates\n",
    "cate_s = y1_s - y0_s\n",
    "mape_s = np.sum(np.abs((cate_true - cate_s) / (cate_true)))\n",
    "\n",
    "# T-learners estimates\n",
    "cate_t = y1_t - y0_t\n",
    "mape_t = np.sum(np.abs((cate_true - cate_t) / (cate_true)))\n",
    "\n",
    "print(\"S-learner  MAPE: {} \\nT-learners MAPE: {}\".format(mape_s, mape_t))"
   ]
  },
  {
   "cell_type": "markdown",
   "metadata": {
    "slideshow": {
     "slide_type": "slide"
    }
   },
   "source": [
    "Thank you for your attention! \n",
    "\n",
    "https://github.com/Imperial-College-Data-Science-Society/workshops\n",
    "\n",
    "1. Introduction to Data Science\n",
    "2. **Regression and Neural Networks**\n",
    "3. Classifying Character and Organ Images\n",
    "4. Demystifying Causality and Causal Inference\n",
    "5. A Primer to Data Engineering\n",
    "6. Natural Language Processing (NLP) by using Attention\n",
    "7. Art and Music using GANs\n",
    "8. Probabilistic Programming in Practice\n",
    "9. Missing Data in Supervised Learning\n",
    "\n",
    "![alt-text](icdss.jpeg)\n"
   ]
  }
 ],
 "metadata": {
  "celltoolbar": "Slideshow",
  "kernelspec": {
   "display_name": "Python 3",
   "language": "python",
   "name": "python3"
  },
  "language_info": {
   "codemirror_mode": {
    "name": "ipython",
    "version": 3
   },
   "file_extension": ".py",
   "mimetype": "text/x-python",
   "name": "python",
   "nbconvert_exporter": "python",
   "pygments_lexer": "ipython3",
   "version": "3.7.3"
  }
 },
 "nbformat": 4,
 "nbformat_minor": 4
}
