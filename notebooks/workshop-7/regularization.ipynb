{
 "cells": [
  {
   "cell_type": "markdown",
   "metadata": {
    "slideshow": {
     "slide_type": "slide"
    }
   },
   "source": [
    "# Regularization and Shrinkage: Why do They Matter?\n",
    "\n",
    "🔗 Materials: https://github.com/Imperial-College-Data-Science-Society/workshops/tree/master/notebooks/workshop-7\n",
    "\n",
    "💻 Content covered:\n",
    "\n",
    "- Motivation\n",
    "- From linear regression to Ridge\n",
    "- Connections with Principle Component Analysis\n",
    "- Lasso\n",
    "- Example\n",
    "\n",
    "👾 This lecture will be held online on Microsoft Teams.\n",
    "\n",
    "🔴 The event will be recorded and will be publicly available.\n",
    "\n",
    "🎉 Attendance is FREE for members! Whether you are a student at Imperial College or not, sign up to be a member at https://www.icdss.club/joinus\n",
    "\n",
    "⭐️ We encourage participants of this workshop to have looked at our previous sessions on YouTube. \n",
    "\n",
    "📖 A schedule of our lecture series is currently available"
   ]
  },
  {
   "cell_type": "markdown",
   "metadata": {
    "slideshow": {
     "slide_type": "slide"
    }
   },
   "source": [
    "## Motivation and Setup\n",
    "Given covariates $x_i = (x_{i1}, x_{i2}, \\ldots, x_{id})^\\intercal \\in \\mathbb{R}^d$ and response variables $y_i$, $i = 1, \\ldots, n$, so that \n",
    "$$y_i = f(x_i) + \\epsilon_i,\n",
    "$$\n",
    "where $\\epsilon_i \\sim \\mathcal{N}(0, \\sigma^2)$ is a Gaussian noise.   "
   ]
  },
  {
   "cell_type": "markdown",
   "metadata": {
    "slideshow": {
     "slide_type": "fragment"
    }
   },
   "source": [
    "For convenience, we write everything in matrix form: for $\\epsilon \\sim \\mathcal{N}(0, \\sigma^2 I_n)$,\n",
    "$$\n",
    "Y = f(X) + \\epsilon,\n",
    "$$\n",
    "where $Y = (y1, \\ldots, y_n)^\\intercal$, and $X \\in \\mathbb{R}^{n \\times d}$ whose $i$-th row is $x_i$."
   ]
  },
  {
   "cell_type": "markdown",
   "metadata": {
    "slideshow": {
     "slide_type": "fragment"
    }
   },
   "source": [
    "E.g. $f(X) = \\alpha_0 \\mathbf{1} + X \\beta_0$, $Y = X \\beta_0 + \\epsilon$。 In this case, $(\\alpha_0, \\beta_0) \\in \\mathbb{R}^{d + 1}$ are the true parameters."
   ]
  },
  {
   "cell_type": "markdown",
   "metadata": {
    "slideshow": {
     "slide_type": "fragment"
    }
   },
   "source": [
    "Want to learn $f$."
   ]
  },
  {
   "cell_type": "markdown",
   "metadata": {
    "slideshow": {
     "slide_type": "slide"
    }
   },
   "source": [
    "## Linear regression"
   ]
  },
  {
   "cell_type": "markdown",
   "metadata": {
    "slideshow": {
     "slide_type": "fragment"
    }
   },
   "source": [
    "Assume $Y = \\alpha_0 \\mathbf{1} + x\\beta_0$. \n",
    "\n",
    "Least-square (LS) solution: Find the optimal $(\\hat{\\alpha}, \\hat{\\beta}) \\in \\mathbb{R}^{d + 1}$ by minimizing the least-square error:\n",
    "$$\n",
    "(\\hat{\\alpha}, \\hat{\\beta}) = \\mathrm{argmin}_{(\\alpha, \\beta) \\in \\mathbb{R}^{d + 1}} \\| Y - \\alpha \\mathbf{1} - X\\beta  \\|_2^2. \n",
    "$$"
   ]
  },
  {
   "cell_type": "markdown",
   "metadata": {
    "slideshow": {
     "slide_type": "fragment"
    }
   },
   "source": [
    "Let $\\tilde{X} = [\\mathbf{1} \\ X]$ be the design matrix with an intercept. Simple linear algebra gives the LS solution:\n",
    "$$\n",
    "(\\hat{\\alpha}, \\hat{\\beta}^\\intercal)^\\intercal = (\\tilde{X}^T \\tilde{X})^{-1} \\tilde{X}^\\intercal Y.\n",
    "$$"
   ]
  },
  {
   "cell_type": "markdown",
   "metadata": {
    "slideshow": {
     "slide_type": "fragment"
    }
   },
   "source": [
    "Caveat: For the LS solution to be well-defined, the $d \\times d$ matrix $\\tilde{X}^T \\tilde{X}$ needs to be invertible, or equivalently, $\\tilde{X}$ need to have full-rank ($n \\geq d$)."
   ]
  },
  {
   "cell_type": "markdown",
   "metadata": {
    "slideshow": {
     "slide_type": "subslide"
    }
   },
   "source": [
    "Problem: What about when $d > > n$?"
   ]
  },
  {
   "cell_type": "markdown",
   "metadata": {
    "slideshow": {
     "slide_type": "fragment"
    }
   },
   "source": [
    "E.g. 1. In cancer prediction problems, it is common to have thousands of gene expressions as your covariates, but only a few hundreds of patients' record."
   ]
  },
  {
   "cell_type": "markdown",
   "metadata": {
    "slideshow": {
     "slide_type": "fragment"
    }
   },
   "source": [
    "E.g. 2. In a customer behaviour analysis where you are given whether a customer has purchased a product from Amazon as the response, and some features (type of product, price, time of visit etc.) as covariates. You don't really want to *predict* buy/not buy, but to understand which features, amongst a handful of them, are most correlated to the purchase behaviour."
   ]
  },
  {
   "cell_type": "markdown",
   "metadata": {
    "slideshow": {
     "slide_type": "subslide"
    }
   },
   "source": [
    "#### Summary\n",
    "LS is good, but does not give us an answer when:\n",
    "1. The problem is high-dimensional and we have more features than cases.\n",
    "2. We are interested in selecting the features that are most \"important\"."
   ]
  },
  {
   "cell_type": "markdown",
   "metadata": {
    "slideshow": {
     "slide_type": "slide"
    }
   },
   "source": [
    "## Ridge Regression"
   ]
  },
  {
   "cell_type": "markdown",
   "metadata": {
    "slideshow": {
     "slide_type": "fragment"
    }
   },
   "source": [
    "Ridge solution: Find the optimal $(\\hat{\\alpha}, \\hat{\\beta}) \\in \\mathbb{R}^{d + 1}$ by minimizing the least-square error **with $L_2$-penalty**:\n",
    "$$\n",
    "(\\hat{\\alpha}, \\hat{\\beta}) = \\mathrm{argmin}_{(\\alpha, \\beta) \\in \\mathbb{R}^{d + 1}} \\| Y - \\alpha \\mathbf{1} - X\\beta  \\|_2^2 \n",
    "\\color{red}{ + \\lambda \\| \\beta \\|_2^2 },\n",
    "$$\n",
    "where $\\| \\beta \\|_2^2 = \\sum_{j = 1}^d \\beta_j^2$ is called the <span style=\"color:red\">penalty/regularization term</span>, and $\\lambda > 0$ is a hyperparameter we need to choose (often by cross-validation)."
   ]
  },
  {
   "cell_type": "markdown",
   "metadata": {
    "slideshow": {
     "slide_type": "subslide"
    }
   },
   "source": [
    "Why adding in a regularization helps?\n",
    "\n",
    "Under some conditions (columns of $X$ are standardized to have zero mean and unit variance), the Ridge solution can be derived analytically:\n",
    "\\begin{align*}\n",
    "\\hat{\\alpha} &= \\frac{1}{n} \\sum_{i = 1}^{n} Y_i = 0, \\\\\n",
    "\\hat{\\beta} &= (X^\\intercal X + \\lambda I_n)^{-1} X^{\\intercal}Y,\n",
    "\\end{align*}\n"
   ]
  },
  {
   "cell_type": "markdown",
   "metadata": {
    "slideshow": {
     "slide_type": "fragment"
    }
   },
   "source": [
    "**Key observations**: Comparing with LS solution $\\hat{\\beta} = (X^\\intercal X)^{-1} X^{\\intercal}Y$,\n",
    "- $(X^\\intercal X + \\lambda I_n)$ is always invertible for **any** $X$, as long as $\\lambda > 0$. So the Ridge solution is always well-defined.\n",
    "- Adding the <span style=\"color:red\">penalty term</span> **shrinks** the fitted coefficients in $\\hat{\\beta}$ towards zero (more on this later).\n",
    "- $\\hat{\\beta}$ is now biased, but always has a smaller variance for a judicious choice of $\\lambda$ (bias-variance trade-off):\n",
    "<center>\n",
    "Mean-Square Error = Variance + $\\textrm{Bias}^2$.\n",
    "</center>\n",
    "- We normally do **not** penalize the intercept term!"
   ]
  },
  {
   "cell_type": "markdown",
   "metadata": {
    "slideshow": {
     "slide_type": "subslide"
    }
   },
   "source": [
    "### Choosing $\\lambda$"
   ]
  },
  {
   "cell_type": "markdown",
   "metadata": {
    "slideshow": {
     "slide_type": "fragment"
    }
   },
   "source": [
    "The optimal $\\lambda$ is often chosen by cross-validation:\n",
    "1. Split training data into various subsets, called **folds**.\n",
    "2. For each $\\lambda$ over a pre-defined grid of values $\\lambda_1, \\ldots, \\lambda_k$, calculate Ridge solution from all but one folds, compute out-of-sample error on the other fold, and repeat to get an averaged loss.\n",
    "3. Pick the $\\lambda$ that gave the smallest averaged cross-validation loss.\n",
    "\n",
    "<img src=\"figs/cross_val.png\" width=\"600\"/>"
   ]
  },
  {
   "cell_type": "markdown",
   "metadata": {
    "slideshow": {
     "slide_type": "slide"
    }
   },
   "source": [
    "## Connections with PCA"
   ]
  },
  {
   "cell_type": "markdown",
   "metadata": {
    "slideshow": {
     "slide_type": "fragment"
    }
   },
   "source": [
    "Idea of Principal Value Analaysis (PCA): \n",
    "\n",
    "Find the directions along which the **features** $X$ have the largest variance (i.e. most informative), and only look at the first few of them. \n",
    "\n",
    "- The variance is quantified by the **eigenvalues** of the matrix $X^\\intercal X$. \n",
    "- The directions are given by the **eigenvectors**, called principal components (PCs).\n"
   ]
  },
  {
   "cell_type": "markdown",
   "metadata": {
    "slideshow": {
     "slide_type": "subslide"
    }
   },
   "source": [
    "**Principal component regression**: Use the first, say $s$, eigenvectors as the covariates, and perform least-square fit to find $\\hat{\\beta}$.\n",
    "\n",
    "<div style=\"text-align:center\"><img src=\"figs/PCA.png\" width=500\"/></div>"
   ]
  },
  {
   "cell_type": "markdown",
   "metadata": {
    "slideshow": {
     "slide_type": "subslide"
    }
   },
   "source": [
    "Principal component regression: \n",
    "- 1: Perform PCA to create PCs as our new input features\n",
    "- 2: Use these PCs as input features to train our model for a least-square fit.\n",
    "- 3: Transform these PCs back to the original input features, in order to make predictions on the actual dataset.\n",
    "\n",
    "<img src=\"figs/pc_regression.png\" width=\"600\"/>"
   ]
  },
  {
   "cell_type": "markdown",
   "metadata": {
    "slideshow": {
     "slide_type": "subslide"
    }
   },
   "source": [
    "Adding the <span style=\"color:red\">penalty term</span> in Ridge regression effectively shrinks the Ridge solution $\\hat{\\beta}$ according to the **eigenvalues** of the matrix $X^\\intercal X$.\n"
   ]
  },
  {
   "cell_type": "markdown",
   "metadata": {
    "slideshow": {
     "slide_type": "fragment"
    }
   },
   "source": [
    "- Let $\\hat{\\beta}^{(LS)}$ = LS solution, $\\hat{\\beta}_s^{(PC)}$ = PC regression with $s$ PCs, $\\hat{\\beta}_\\lambda^{(R)}$ = Ridge solution with regularization parameter $\\lambda > 0$. \n",
    "- Let $D_1 \\geq D_2 \\geq \\ldots \\geq D_d$ be the eigenvalues of $X^\\intercal X$ with corresponding eigenvectors $u_1, \\ldots, u_d$. "
   ]
  },
  {
   "cell_type": "markdown",
   "metadata": {
    "slideshow": {
     "slide_type": "fragment"
    }
   },
   "source": [
    "\n",
    "**Fact**: The fitted values can be rewritten as\n",
    "\\begin{align*}\n",
    "X \\hat{\\beta}^{(LS)} &= \\sum_{j = 1}^{d} (u_j^\\intercal Y) u_j \\\\\n",
    "X \\hat{\\beta}_s^{(PC)} &= \\sum_{j = 1}^s (u_j^\\intercal Y) u_j \\\\\n",
    "X \\hat{\\beta}_\\lambda^{(R)} &= \\sum_{j = 1}^d \\color{blue}{\\frac{D_j^2}{D_j^2 + \\lambda}} (u_j^\\intercal Y) u_j \n",
    "\\end{align*}"
   ]
  },
  {
   "cell_type": "markdown",
   "metadata": {
    "slideshow": {
     "slide_type": "subslide"
    }
   },
   "source": [
    "**Key observations**: \n",
    "- Ridge shrinks the directions with the smallest eigenvalues the most.\n",
    "- $\\lambda$ &#8593;, shrinkage &#8593;"
   ]
  },
  {
   "cell_type": "markdown",
   "metadata": {
    "slideshow": {
     "slide_type": "slide"
    }
   },
   "source": [
    "## Lasso Regression"
   ]
  },
  {
   "cell_type": "markdown",
   "metadata": {
    "slideshow": {
     "slide_type": "fragment"
    }
   },
   "source": [
    "Lasso solution: Find the optimal $(\\hat{\\alpha}, \\hat{\\beta}) \\in \\mathbb{R}^{d + 1}$ by minimizing the least-square error **with $L_1$-penalty**:\n",
    "$$\n",
    "(\\hat{\\alpha}, \\hat{\\beta}) = \\mathrm{argmin}_{(\\alpha, \\beta) \\in \\mathbb{R}^{d + 1}} \\frac{1}{2}\\| Y - \\alpha \\mathbf{1} - X\\beta  \\|_2^2 \n",
    "\\color{red}{ + \\lambda \\| \\beta \\|_1 },\n",
    "$$\n",
    "where $\\| \\beta \\|_1 = \\sum_{j = 1}^d |\\beta_j|$, $\\lambda > 0$ is a hyperparameter we need to choose.\n",
    "\n",
    "<img src=\"figs/lasso_and_ridge.png\" width=\"500\"/>"
   ]
  },
  {
   "cell_type": "markdown",
   "metadata": {
    "slideshow": {
     "slide_type": "subslide"
    }
   },
   "source": [
    "**Key observations**:\n",
    "- Lasso is more likely to give rise to $\\hat{\\beta}$ that are **exactly** zero.\n",
    "- Lasso solutions has nice theoretical properties: with judicious choice of $\\lambda$ and under regularity conditoins, $\\hat{\\beta} \\approx \\beta_0$ with high probability.\n",
    "- Lasso can be combined with Ridge to give the *elastic net* penalty: for $\\alpha \\in [0, 1]$\n",
    "$$\n",
    "\\lambda \\left( \\alpha \\| \\beta \\|_2^2 + (1 - \\alpha) \\| \\beta \\|_1 \\right).\n",
    "$$"
   ]
  },
  {
   "cell_type": "markdown",
   "metadata": {
    "slideshow": {
     "slide_type": "slide"
    }
   },
   "source": [
    "## Experiments (Prostate Cancer)\n",
    "See the notebook here:\n",
    "\n",
    "https://github.com/Imperial-College-Data-Science-Society/workshops/tree/master/notebooks/workshop-7"
   ]
  },
  {
   "cell_type": "markdown",
   "metadata": {
    "slideshow": {
     "slide_type": "skip"
    }
   },
   "source": [
    "Adopted from *Elements of Statistical Learning, Example 3.2.1*"
   ]
  },
  {
   "cell_type": "code",
   "execution_count": null,
   "metadata": {
    "slideshow": {
     "slide_type": "skip"
    }
   },
   "outputs": [],
   "source": [
    "url = \"https://web.stanford.edu/~hastie/ElemStatLearn/datasets/prostate.data\"\n",
    "import pandas as pd\n",
    "data = pd.read_csv(url, delimiter=\"\\t\")\n",
    "data = data.iloc[:, 1:]\n",
    "print(\"Shape:\", data.shape)\n",
    "data.head()"
   ]
  },
  {
   "cell_type": "code",
   "execution_count": 2,
   "metadata": {
    "slideshow": {
     "slide_type": "skip"
    }
   },
   "outputs": [
    {
     "name": "stdout",
     "output_type": "stream",
     "text": [
      "Train set: (67, 9) Test set: (30, 9)\n"
     ]
    }
   ],
   "source": [
    "data_train = data.loc[data.train == \"T\"].drop(\"train\", axis=1)\n",
    "data_test = data.loc[data.train != \"T\"].drop(\"train\", axis=1)\n",
    "print(\"Train set:\", data_train.shape, \"Test set:\", data_test.shape)\n",
    "\n",
    "trainX = data_train.drop(\"lpsa\", axis=1)\n",
    "trainY = data_train.lpsa\n",
    "testX = data_test.drop(\"lpsa\", axis=1)\n",
    "testY = data_test.lpsa"
   ]
  },
  {
   "cell_type": "markdown",
   "metadata": {
    "slideshow": {
     "slide_type": "skip"
    }
   },
   "source": [
    "### Utility functions"
   ]
  },
  {
   "cell_type": "code",
   "execution_count": 98,
   "metadata": {
    "slideshow": {
     "slide_type": "skip"
    }
   },
   "outputs": [],
   "source": [
    "def compare_loss(model, alphas):\n",
    "    '''Plot train and test errors for different \n",
    "    values of alphas.\n",
    "    '''\n",
    "    train_loss = []\n",
    "    test_loss = []\n",
    "    for a in alphas:\n",
    "        ridge = model.set_params(alpha=a)\n",
    "        ridge.fit(trainX, trainY)\n",
    "        train_predY = ridge.predict(trainX)\n",
    "        test_predY = ridge.predict(testX)\n",
    "        \n",
    "        train_loss.append(mean_squared_error(trainY, train_predY))\n",
    "        test_loss.append(mean_squared_error(testY, test_predY))\n",
    "    \n",
    "    ax = plt.gca()\n",
    "    ax.plot(alphas, train_loss, label=\"train\")\n",
    "    ax.plot(alphas, test_loss, label=\"test\")\n",
    "    ax.set_xscale('log')\n",
    "    plt.xlabel('alpha')\n",
    "    plt.ylabel('MSE')\n",
    "    plt.title('Loss as a function of the regularization')\n",
    "    plt.axis('tight')\n",
    "    plt.legend()"
   ]
  },
  {
   "cell_type": "code",
   "execution_count": 102,
   "metadata": {
    "slideshow": {
     "slide_type": "skip"
    }
   },
   "outputs": [],
   "source": [
    "def fit_and_plot_hyperparams(model, alphas):\n",
    "    '''Plot paths of fitted coefficients for different \n",
    "    values of alpha.\n",
    "    '''\n",
    "    coefs = []\n",
    "    for a in alphas:\n",
    "        ridge = model.set_params(alpha=a)\n",
    "        ridge.fit(trainX, trainY)\n",
    "        coefs.append(ridge.coef_)\n",
    "\n",
    "    # Display results\n",
    "    ax = plt.gca()\n",
    "    ax.plot(alphas, coefs)\n",
    "    ax.set_xscale('log')\n",
    "    plt.xlabel('alpha')\n",
    "    plt.ylabel('Coefficients')\n",
    "    plt.title('Coefficients as a function of regularization')\n",
    "    plt.axis('tight')"
   ]
  },
  {
   "cell_type": "code",
   "execution_count": 100,
   "metadata": {
    "slideshow": {
     "slide_type": "skip"
    }
   },
   "outputs": [],
   "source": [
    "def plot_cvloss(cvres, model):\n",
    "    '''Plot CV loss for each values of alpha.\n",
    "    '''\n",
    "    ax = plt.gca()\n",
    "    ax.set_xscale('log')\n",
    "    ax.plot(cvres.param_alpha, - cvres.mean_test_score)\n",
    "    plt.title(\"CV loss for different alpha (%s)\" % model)\n",
    "    plt.xlabel(\"alpha\")\n",
    "    plt.ylabel(\"MSE\")\n",
    "    plt.tight_layout()"
   ]
  },
  {
   "cell_type": "markdown",
   "metadata": {
    "slideshow": {
     "slide_type": "skip"
    }
   },
   "source": [
    "### Linear regression"
   ]
  },
  {
   "cell_type": "code",
   "execution_count": 3,
   "metadata": {
    "slideshow": {
     "slide_type": "skip"
    }
   },
   "outputs": [],
   "source": [
    "from sklearn.linear_model import LinearRegression, Ridge, Lasso, ElasticNet\n",
    "from sklearn.metrics import mean_squared_error\n",
    "import matplotlib.pyplot as plt"
   ]
  },
  {
   "cell_type": "code",
   "execution_count": 26,
   "metadata": {
    "slideshow": {
     "slide_type": "skip"
    }
   },
   "outputs": [
    {
     "data": {
      "image/png": "[encoded data removed]",
      "text/plain": [
       "<Figure size 432x288 with 1 Axes>"
      ]
     },
     "metadata": {
      "needs_background": "light"
     },
     "output_type": "display_data"
    }
   ],
   "source": [
    "linreg = LinearRegression()\n",
    "linreg.fit(trainX, trainY)\n",
    "coeffs_df = pd.DataFrame(linreg.coef_, trainX.columns, columns=[\"lr\"])\n",
    "coeffs_df.lr.plot(kind=\"barh\")\n",
    "plt.ylabel(\"Coefficients\")\n",
    "plt.show()"
   ]
  },
  {
   "cell_type": "code",
   "execution_count": 5,
   "metadata": {
    "slideshow": {
     "slide_type": "skip"
    }
   },
   "outputs": [
    {
     "name": "stdout",
     "output_type": "stream",
     "text": [
      "MSE: 0.52127\n"
     ]
    }
   ],
   "source": [
    "linreg_predY = linreg.predict(testX)\n",
    "linreg_loss = mean_squared_error(testY, linreg_predY)\n",
    "print('MSE: %.5f' % linreg_loss)"
   ]
  },
  {
   "cell_type": "markdown",
   "metadata": {
    "slideshow": {
     "slide_type": "skip"
    }
   },
   "source": [
    "### Ridge regression"
   ]
  },
  {
   "cell_type": "code",
   "execution_count": 6,
   "metadata": {
    "slideshow": {
     "slide_type": "skip"
    }
   },
   "outputs": [],
   "source": [
    "import numpy as np\n",
    "from sklearn.model_selection import GridSearchCV, RepeatedKFold\n",
    "\n",
    "ridgereg = Ridge(normalize=True)\n",
    "# define model evaluation method\n",
    "cv = RepeatedKFold(n_splits=5, n_repeats=3, random_state=0)\n",
    "# define grid\n",
    "grid = {\"alpha\": np.arange(0.01, 5, 0.01)}\n",
    "# define search\n",
    "search = GridSearchCV(ridgereg, grid, scoring=\"neg_mean_squared_error\", cv=cv, n_jobs=2, return_train_score=True)\n",
    "# perform the search\n",
    "ridge_res = search.fit(trainX, trainY)\n",
    "ridgecv = pd.DataFrame(ridge_res.cv_results_)"
   ]
  },
  {
   "cell_type": "code",
   "execution_count": 37,
   "metadata": {
    "slideshow": {
     "slide_type": "skip"
    }
   },
   "outputs": [
    {
     "name": "stdout",
     "output_type": "stream",
     "text": [
      "MSE: 0.50235\n",
      "Best alpha: {'alpha': 0.04}\n"
     ]
    }
   ],
   "source": [
    "ridge = ridge_res.best_estimator_\n",
    "ridge_predY = ridge.predict(testX)\n",
    "ridge_loss = mean_squared_error(testY, ridge_predY)\n",
    "\n",
    "print('MSE: %.5f' % ridge_loss)\n",
    "print('Best alpha: %s' % ridge_res.best_params_)"
   ]
  },
  {
   "cell_type": "code",
   "execution_count": 39,
   "metadata": {
    "slideshow": {
     "slide_type": "skip"
    }
   },
   "outputs": [
    {
     "data": {
      "image/png": "[encoded data removed]",
      "text/plain": [
       "<Figure size 432x288 with 1 Axes>"
      ]
     },
     "metadata": {
      "needs_background": "light"
     },
     "output_type": "display_data"
    }
   ],
   "source": [
    "plot_cvloss(ridgecv, \"Ridge\")"
   ]
  },
  {
   "cell_type": "code",
   "execution_count": 57,
   "metadata": {
    "slideshow": {
     "slide_type": "skip"
    }
   },
   "outputs": [
    {
     "data": {
      "image/png": "[encoded data removed]",
      "text/plain": [
       "<Figure size 432x288 with 1 Axes>"
      ]
     },
     "metadata": {
      "needs_background": "light"
     },
     "output_type": "display_data"
    }
   ],
   "source": [
    "alphas = np.logspace(-5, 5, 200)\n",
    "compare_loss(Ridge(normalize=True), alphas = alphas)"
   ]
  },
  {
   "cell_type": "code",
   "execution_count": 66,
   "metadata": {
    "slideshow": {
     "slide_type": "skip"
    }
   },
   "outputs": [
    {
     "data": {
      "image/png": "[encoded data removed]",
      "text/plain": [
       "<Figure size 432x288 with 1 Axes>"
      ]
     },
     "metadata": {
      "needs_background": "light"
     },
     "output_type": "display_data"
    }
   ],
   "source": [
    "alphas = np.logspace(-5, 5, 200)\n",
    "fit_and_plot_hyperparams(Ridge(normalize=True), alphas = alphas)"
   ]
  },
  {
   "cell_type": "markdown",
   "metadata": {
    "slideshow": {
     "slide_type": "skip"
    }
   },
   "source": [
    "### Lasso"
   ]
  },
  {
   "cell_type": "code",
   "execution_count": 48,
   "metadata": {
    "slideshow": {
     "slide_type": "skip"
    }
   },
   "outputs": [],
   "source": [
    "lassoreg = Lasso(normalize=True)\n",
    "# define search\n",
    "grid = {\"alpha\": np.arange(0.0001, 0.05, 0.0001)}\n",
    "lasso_search = GridSearchCV(lassoreg, grid, scoring=\"neg_mean_squared_error\", cv=cv, n_jobs=2)\n",
    "# perform the search\n",
    "lasso_res = lasso_search.fit(trainX, trainY)\n",
    "lassocv = pd.DataFrame(lasso_res.cv_results_)"
   ]
  },
  {
   "cell_type": "code",
   "execution_count": 51,
   "metadata": {
    "slideshow": {
     "slide_type": "skip"
    }
   },
   "outputs": [
    {
     "name": "stdout",
     "output_type": "stream",
     "text": [
      "MSE: 0.49371\n",
      "Best alpha: {'alpha': 0.0016}\n"
     ]
    }
   ],
   "source": [
    "lasso = lasso_res.best_estimator_\n",
    "lasso_predY = lasso.predict(testX)\n",
    "lasso_loss = mean_squared_error(testY, lasso_predY)\n",
    "\n",
    "print('MSE: %.5f' % lasso_loss)\n",
    "print('Best alpha: %s' % lasso_res.best_params_)"
   ]
  },
  {
   "cell_type": "code",
   "execution_count": 59,
   "metadata": {
    "slideshow": {
     "slide_type": "skip"
    }
   },
   "outputs": [
    {
     "data": {
      "image/png": "[encoded data removed]",
      "text/plain": [
       "<Figure size 432x288 with 1 Axes>"
      ]
     },
     "metadata": {
      "needs_background": "light"
     },
     "output_type": "display_data"
    }
   ],
   "source": [
    "plot_cvloss(lassocv, \"Lasso\")"
   ]
  },
  {
   "cell_type": "code",
   "execution_count": 61,
   "metadata": {
    "slideshow": {
     "slide_type": "skip"
    }
   },
   "outputs": [
    {
     "data": {
      "image/png": "[encoded data removed]",
      "text/plain": [
       "<Figure size 432x288 with 1 Axes>"
      ]
     },
     "metadata": {
      "needs_background": "light"
     },
     "output_type": "display_data"
    }
   ],
   "source": [
    "alphas = np.logspace(-5, 5, 200)\n",
    "compare_loss(Lasso(normalize=True), alphas = alphas)"
   ]
  },
  {
   "cell_type": "code",
   "execution_count": 88,
   "metadata": {
    "slideshow": {
     "slide_type": "skip"
    }
   },
   "outputs": [
    {
     "data": {
      "image/png": "[encoded data removed]",
      "text/plain": [
       "<Figure size 432x288 with 1 Axes>"
      ]
     },
     "metadata": {
      "needs_background": "light"
     },
     "output_type": "display_data"
    }
   ],
   "source": [
    "fit_and_plot_hyperparams(Lasso(normalize=True), alphas = alphas)"
   ]
  },
  {
   "cell_type": "markdown",
   "metadata": {
    "slideshow": {
     "slide_type": "skip"
    }
   },
   "source": [
    "### Elastic net"
   ]
  },
  {
   "cell_type": "code",
   "execution_count": 62,
   "metadata": {
    "slideshow": {
     "slide_type": "skip"
    }
   },
   "outputs": [],
   "source": [
    "enet = ElasticNet(normalize=True)\n",
    "# define search\n",
    "grid = {\n",
    "    \"alpha\": np.arange(0.001, 0.04, 0.001),\n",
    "    \"l1_ratio\": [1e-3, 1e-2, 1e-1, 0.5, 0.75]\n",
    "}\n",
    "enet_search = GridSearchCV(enet, grid, scoring=\"neg_mean_squared_error\", cv=cv, n_jobs=2)\n",
    "# perform the search\n",
    "enet_res = enet_search.fit(trainX, trainY)\n",
    "enetcv = pd.DataFrame(enet_res.cv_results_)"
   ]
  },
  {
   "cell_type": "code",
   "execution_count": 63,
   "metadata": {
    "slideshow": {
     "slide_type": "skip"
    }
   },
   "outputs": [
    {
     "name": "stdout",
     "output_type": "stream",
     "text": [
      "MSE: 0.49611\n",
      "Best params: {'alpha': 0.001, 'l1_ratio': 0.1}\n"
     ]
    }
   ],
   "source": [
    "enet = enet_res.best_estimator_\n",
    "enet_predY = enet.predict(testX)\n",
    "enet_loss = mean_squared_error(testY, enet_predY)\n",
    "\n",
    "print('MSE: %.5f' % enet_loss)\n",
    "print('Best params: %s' % enet_res.best_params_)"
   ]
  },
  {
   "cell_type": "code",
   "execution_count": 96,
   "metadata": {
    "slideshow": {
     "slide_type": "skip"
    }
   },
   "outputs": [
    {
     "data": {
      "image/png": "[encoded data removed]",
      "text/plain": [
       "<Figure size 432x288 with 1 Axes>"
      ]
     },
     "metadata": {
      "needs_background": "light"
     },
     "output_type": "display_data"
    }
   ],
   "source": [
    "fit_and_plot_hyperparams(\n",
    "    ElasticNet(normalize=True, l1_ratio=enet_res.best_params_[\"l1_ratio\"]), \n",
    "    alphas = alphas\n",
    ")"
   ]
  },
  {
   "cell_type": "markdown",
   "metadata": {
    "slideshow": {
     "slide_type": "skip"
    }
   },
   "source": [
    "### Plot fitted coefficients"
   ]
  },
  {
   "cell_type": "code",
   "execution_count": 69,
   "metadata": {
    "slideshow": {
     "slide_type": "skip"
    }
   },
   "outputs": [
    {
     "data": {
      "image/png": "[encoded data removed]",
      "text/plain": [
       "<Figure size 432x288 with 1 Axes>"
      ]
     },
     "metadata": {
      "needs_background": "light"
     },
     "output_type": "display_data"
    }
   ],
   "source": [
    "coeffs_df[\"Ridge\"] = ridge.coef_\n",
    "coeffs_df[\"Lasso\"] = lasso.coef_\n",
    "coeffs_df[\"ElasNet\"] = enet.coef_\n",
    "\n",
    "coeffs_df.plot(kind=\"barh\")\n",
    "plt.ylabel(\"Coefficients\")\n",
    "plt.title(\"Fitted coefficients of different models\")\n",
    "plt.show()"
   ]
  },
  {
   "cell_type": "markdown",
   "metadata": {
    "slideshow": {
     "slide_type": "skip"
    }
   },
   "source": [
    "|       |       | Summary |     |           |\n",
    "| :---: | :---: |  :---:  |  :---:  |   :---:   |\n",
    "| Model | LR    |  Ridge  |  Lasso  |  ElasNet  |\n",
    "| MSE   | 0.521 |  0.502  |  0.494  |  0.496    |"
   ]
  },
  {
   "cell_type": "markdown",
   "metadata": {
    "slideshow": {
     "slide_type": "slide"
    }
   },
   "source": [
    "## Other Forms of Regularization"
   ]
  },
  {
   "cell_type": "markdown",
   "metadata": {
    "slideshow": {
     "slide_type": "fragment"
    }
   },
   "source": [
    "1. Other penalty functions: $L_q, q > 0$, grouped lasso.\n",
    "2. The SVM obective can be written in a form involving a regularization term.\n",
    "3. Dropouts in neural network.\n",
    "4. Double descent (overfitting leads to lower out-of-sample error)."
   ]
  },
  {
   "cell_type": "markdown",
   "metadata": {
    "slideshow": {
     "slide_type": "slide"
    }
   },
   "source": [
    "## References\n",
    "Hastie, Trevor, Tibshirani, Robert and Friedman, Jerome. *The Elements of Statistical Learning*. New York, NY, USA: Springer New York Inc., 2001.\n",
    "\n",
    "Rajen Shah. Lecture Notes on Modern Statistical Methods. 2019. http://www.statslab.cam.ac.uk/~rds37/teaching/modern_stat_methods/notes_MSM.pdf"
   ]
  }
 ],
 "metadata": {
  "celltoolbar": "Slideshow",
  "kernelspec": {
   "display_name": "Python 3",
   "language": "python",
   "name": "python3"
  },
  "language_info": {
   "codemirror_mode": {
    "name": "ipython",
    "version": 3
   },
   "file_extension": ".py",
   "mimetype": "text/x-python",
   "name": "python",
   "nbconvert_exporter": "python",
   "pygments_lexer": "ipython3",
   "version": "3.7.6"
  }
 },
 "nbformat": 4,
 "nbformat_minor": 4
}
